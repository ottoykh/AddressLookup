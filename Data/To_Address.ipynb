{
  "nbformat": 4,
  "nbformat_minor": 0,
  "metadata": {
    "colab": {
      "provenance": []
    },
    "kernelspec": {
      "name": "python3",
      "display_name": "Python 3"
    },
    "language_info": {
      "name": "python"
    }
  },
  "cells": [
    {
      "cell_type": "code",
      "source": [
        "!git clone https://github.com/ottoykh/AddressLookup.git"
      ],
      "metadata": {
        "colab": {
          "base_uri": "https://localhost:8080/"
        },
        "id": "lUAMOE9cIG7m",
        "outputId": "047483ca-5fe9-4e06-dae3-5501591d6006"
      },
      "execution_count": null,
      "outputs": [
        {
          "output_type": "stream",
          "name": "stdout",
          "text": [
            "Cloning into 'AddressLookup'...\n",
            "remote: Enumerating objects: 8, done.\u001b[K\n",
            "remote: Counting objects: 100% (8/8), done.\u001b[K\n",
            "remote: Compressing objects: 100% (7/7), done.\u001b[K\n",
            "remote: Total 8 (delta 0), reused 0 (delta 0), pack-reused 0 (from 0)\u001b[K\n",
            "Receiving objects: 100% (8/8), 169.60 KiB | 3.69 MiB/s, done.\n"
          ]
        }
      ]
    },
    {
      "cell_type": "code",
      "source": [
        "cd /content/AddressLookup/Data"
      ],
      "metadata": {
        "colab": {
          "base_uri": "https://localhost:8080/"
        },
        "id": "XoR_MoDcIOoC",
        "outputId": "e3199b1d-a116-4d96-d408-114352985a79"
      },
      "execution_count": null,
      "outputs": [
        {
          "output_type": "stream",
          "name": "stdout",
          "text": [
            "/content/AddressLookup/Data\n"
          ]
        }
      ]
    },
    {
      "cell_type": "code",
      "execution_count": null,
      "metadata": {
        "id": "PhqBECfHIE5U"
      },
      "outputs": [],
      "source": [
        "import os\n",
        "keyword_files = ['RVT_Area.txt', 'LandsD_Street.txt', 'RVT_BuildingCh.txt', 'RVT_BuildingEn.txt']\n",
        "keywords = set()\n",
        "\n",
        "for file in keyword_files:\n",
        "    with open(file, 'r', encoding='utf-8') as f:\n",
        "        keywords.update(line.strip() for line in f)\n",
        "\n",
        "def filter_keywords(text):\n",
        "    return [keyword for keyword in keywords if keyword in text]\n",
        "\n",
        "def process_lines(input_file_path, output_file_path):\n",
        "    with open(input_file_path, 'r', encoding='utf-8') as f_in, open(output_file_path, 'w', encoding='utf-8') as f_out:\n",
        "        for line in f_in:\n",
        "            filtered_keywords = filter_keywords(line.strip())\n",
        "            if filtered_keywords:\n",
        "                f_out.write(''.join(filtered_keywords) + '\\n')\n"
      ]
    },
    {
      "cell_type": "code",
      "source": [
        "input_file_path = \"/content/free-text_pool3.txt\"\n",
        "output_file_path = \"/content/free-text_pool3_result.txt\"\n",
        "process_lines(input_file_path, output_file_path)"
      ],
      "metadata": {
        "id": "BOdZOf86bArH"
      },
      "execution_count": 25,
      "outputs": []
    }
  ]
}